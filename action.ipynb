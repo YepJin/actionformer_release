{
  "nbformat": 4,
  "nbformat_minor": 0,
  "metadata": {
    "colab": {
      "provenance": [],
      "authorship_tag": "ABX9TyPZBddzRY89f5RTM03RBD0k",
      "include_colab_link": true
    },
    "kernelspec": {
      "name": "python3",
      "display_name": "Python 3"
    },
    "language_info": {
      "name": "python"
    }
  },
  "cells": [
    {
      "cell_type": "markdown",
      "metadata": {
        "id": "view-in-github",
        "colab_type": "text"
      },
      "source": [
        "<a href=\"https://colab.research.google.com/github/YepJin/actionformer_release/blob/main/action.ipynb\" target=\"_parent\"><img src=\"https://colab.research.google.com/assets/colab-badge.svg\" alt=\"Open In Colab\"/></a>"
      ]
    },
    {
      "cell_type": "code",
      "execution_count": 1,
      "metadata": {
        "id": "zPIdu6thrURj",
        "colab": {
          "base_uri": "https://localhost:8080/"
        },
        "outputId": "4bfdf97a-ebb7-4583-f67b-eb78cca1de1e"
      },
      "outputs": [
        {
          "output_type": "stream",
          "name": "stdout",
          "text": [
            "Mounted at /content/drive\n"
          ]
        }
      ],
      "source": [
        "from google.colab import drive\n",
        "drive.mount('/content/drive')"
      ]
    },
    {
      "cell_type": "code",
      "source": [
        "%cd '/content/drive/My Drive/Research/Conversational_AI/code/action transformer'"
      ],
      "metadata": {
        "colab": {
          "base_uri": "https://localhost:8080/"
        },
        "id": "nXtAsoD1vuMS",
        "outputId": "bdb8544e-651c-42da-a818-31df78d25caf"
      },
      "execution_count": 3,
      "outputs": [
        {
          "output_type": "stream",
          "name": "stdout",
          "text": [
            "/content/drive/My Drive/Research/Conversational_AI/code/action transformer\n"
          ]
        }
      ]
    },
    {
      "cell_type": "code",
      "source": [
        "!git init actiontransformer"
      ],
      "metadata": {
        "colab": {
          "base_uri": "https://localhost:8080/"
        },
        "id": "9dJcutSrxvlA",
        "outputId": "f06a1c91-2f6d-4ef1-a24f-62ad15b1a7ad"
      },
      "execution_count": 5,
      "outputs": [
        {
          "output_type": "stream",
          "name": "stdout",
          "text": [
            "Initialized empty Git repository in /content/drive/MyDrive/Research/Conversational_AI/code/action transformer/actiontransformer/.git/\n"
          ]
        }
      ]
    }
  ]
}